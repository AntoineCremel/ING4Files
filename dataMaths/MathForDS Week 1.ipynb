{
 "cells": [
  {
   "cell_type": "markdown",
   "metadata": {},
   "source": [
    "# Exercises for Week 1 of mathematics for Data Science\n",
    "\n",
    "## 2 Computational Aspects of Linear Algebra\n",
    "\n",
    "### 2.1."
   ]
  },
  {
   "cell_type": "code",
   "execution_count": 2,
   "metadata": {},
   "outputs": [],
   "source": [
    "import numpy as np"
   ]
  },
  {
   "cell_type": "code",
   "execution_count": 3,
   "metadata": {},
   "outputs": [],
   "source": [
    "A = np.array([[-1, 2, 3, 3, 2, 1],\n",
    "             [-1, -2, 3, 3, 2, 1],\n",
    "             [-1, -2, -3, 3, 2, 1],\n",
    "             [-1, -2, -3, -3, 2, 1],\n",
    "             [-1, -2,- 3, -3, -2, 1],\n",
    "             [1, 2, 3, 3, 2, 1]])\n",
    "B = np.array([[-1, 1, 3, 3, 1, 1],\n",
    "             [-1, -1, 3, 3, 1, 1],\n",
    "             [-1, -1, -3, 3, 1, 1],\n",
    "             [-1, -1, -3, -3, 1, 1],\n",
    "             [-1, -1, -3, -3, -1, 1],\n",
    "             [1, 1, 3, 3, 1, 1]])"
   ]
  },
  {
   "cell_type": "code",
   "execution_count": 4,
   "metadata": {},
   "outputs": [
    {
     "data": {
      "text/plain": [
       "array([[-3,  4,  9,  9,  4,  3],\n",
       "       [-3, -4,  9,  9,  4,  3],\n",
       "       [-3, -4, -9,  9,  4,  3],\n",
       "       [-3, -4, -9, -9,  4,  3],\n",
       "       [-3, -4, -9, -9, -4,  3],\n",
       "       [ 3,  4,  9,  9,  4,  3]])"
      ]
     },
     "execution_count": 4,
     "metadata": {},
     "output_type": "execute_result"
    }
   ],
   "source": [
    "C = A + 2 * B\n",
    "C"
   ]
  },
  {
   "cell_type": "code",
   "execution_count": 5,
   "metadata": {},
   "outputs": [
    {
     "data": {
      "text/plain": [
       "array([[ 1,  6, -3, -3,  6, -1],\n",
       "       [ 1, -6, -3, -3,  6, -1],\n",
       "       [ 1, -6,  3, -3,  6, -1],\n",
       "       [ 1, -6,  3,  3,  6, -1],\n",
       "       [ 1, -6,  3,  3, -6, -1],\n",
       "       [-1,  6, -3, -3,  6, -1]])"
      ]
     },
     "execution_count": 5,
     "metadata": {},
     "output_type": "execute_result"
    }
   ],
   "source": [
    "D = 7 * A - 8 * B\n",
    "D"
   ]
  },
  {
   "cell_type": "code",
   "execution_count": 10,
   "metadata": {},
   "outputs": [
    {
     "data": {
      "text/plain": [
       "array([[1, 2, 9, 9, 2, 1],\n",
       "       [1, 2, 9, 9, 2, 1],\n",
       "       [1, 2, 9, 9, 2, 1],\n",
       "       [1, 2, 9, 9, 2, 1],\n",
       "       [1, 2, 9, 9, 2, 1],\n",
       "       [1, 2, 9, 9, 2, 1]])"
      ]
     },
     "execution_count": 10,
     "metadata": {},
     "output_type": "execute_result"
    }
   ],
   "source": [
    "E = A * B\n",
    "E"
   ]
  },
  {
   "cell_type": "code",
   "execution_count": 14,
   "metadata": {},
   "outputs": [
    {
     "data": {
      "text/plain": [
       "array([[ -2,  -3, -10, -10,  -3,   2],\n",
       "       [-12,  18,  60,  60,  18, -12],\n",
       "       [  6,   9, -30, -30,  -9,   6],\n",
       "       [  6,   9,  30, -30,  -9,   6],\n",
       "       [-12, -18, -60, -60,  18, -12],\n",
       "       [  2,   3,  10,  10,   3,   2]])"
      ]
     },
     "execution_count": 14,
     "metadata": {},
     "output_type": "execute_result"
    }
   ],
   "source": [
    "F = np.invert(E) * D.T\n",
    "F"
   ]
  },
  {
   "cell_type": "code",
   "execution_count": 19,
   "metadata": {},
   "outputs": [],
   "source": [
    "np.random.seed(8012018)\n",
    "N = 100\n",
    "\n",
    "X = np.array([np.random.uniform(0.95, 1.25, N),\n",
    "             np.random.uniform(0.45, 0.75, N),\n",
    "             np.random.uniform(0.60, 1, N),\n",
    "             np.random.uniform(1.85, 2.45, N)])\n",
    "y = np.array([3 * np.ones([N])])"
   ]
  },
  {
   "cell_type": "markdown",
   "metadata": {},
   "source": [
    "This is a compoutashone"
   ]
  },
  {
   "cell_type": "code",
   "execution_count": null,
   "metadata": {},
   "outputs": [],
   "source": []
  },
  {
   "cell_type": "code",
   "execution_count": null,
   "metadata": {},
   "outputs": [],
   "source": []
  },
  {
   "cell_type": "code",
   "execution_count": null,
   "metadata": {},
   "outputs": [],
   "source": []
  }
 ],
 "metadata": {
  "kernelspec": {
   "display_name": "Python 3",
   "language": "python",
   "name": "python3"
  },
  "language_info": {
   "codemirror_mode": {
    "name": "ipython",
    "version": 3
   },
   "file_extension": ".py",
   "mimetype": "text/x-python",
   "name": "python",
   "nbconvert_exporter": "python",
   "pygments_lexer": "ipython3",
   "version": "3.7.1"
  }
 },
 "nbformat": 4,
 "nbformat_minor": 2
}
