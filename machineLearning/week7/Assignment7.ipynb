{
 "cells": [
  {
   "cell_type": "markdown",
   "metadata": {},
   "source": [
    "# K-means algorithm\n",
    "\n",
    "## Unsupervised machine learning : Clustering\n",
    "\n",
    "### Reading the data\n",
    "First we need to open the file containing the data we will be working on."
   ]
  },
  {
   "cell_type": "code",
   "execution_count": 1,
   "metadata": {},
   "outputs": [],
   "source": [
    "import numpy as np\n",
    "import matplotlib.pyplot as plt"
   ]
  },
  {
   "cell_type": "code",
   "execution_count": 2,
   "metadata": {},
   "outputs": [
    {
     "data": {
      "image/png": "[encoded data removed]",
      "text/plain": [
       "<Figure size 432x288 with 1 Axes>"
      ]
     },
     "metadata": {
      "needs_background": "light"
     },
     "output_type": "display_data"
    }
   ],
   "source": [
    "data = np.genfromtxt(\"data_kmeans.txt\", delimiter=' ')\n",
    "\n",
    "plt.scatter(data[:, 0], data[:, 1], s=1)\n",
    "plt.grid()"
   ]
  },
  {
   "cell_type": "markdown",
   "metadata": {},
   "source": [
    "## Clustering\n",
    "\n",
    "### Define random starting locations"
   ]
  },
  {
   "cell_type": "code",
   "execution_count": 3,
   "metadata": {},
   "outputs": [],
   "source": [
    "def initialize_cluster_centroids(data, n):\n",
    "    \"\"\"\n",
    "    This function will return a list of n randomly initialized cluster centroids.\n",
    "    \"\"\"\n",
    "    centroids = np.random.rand(n, data.shape[1])\n",
    "    \n",
    "    # We want the centroids to be initialized randomly in the range of the input data.\n",
    "    # figure out the min and max on each axis\n",
    "    minis = [np.min(data[:, i]) for i in range(data.shape[1])]\n",
    "    maxis = [np.max(data[:, i]) for i in range(data.shape[1])]\n",
    "    \n",
    "    # Now we adjust centroids to be included in the same range the points are\n",
    "    centroids *= maxis\n",
    "    centroids += minis\n",
    "    \n",
    "    return centroids"
   ]
  },
  {
   "cell_type": "code",
   "execution_count": 4,
   "metadata": {},
   "outputs": [
    {
     "name": "stdout",
     "output_type": "stream",
     "text": [
      "[[0.95504192 0.95083175]\n",
      " [2.17423783 3.30956573]\n",
      " [3.26854656 1.8340086 ]]\n"
     ]
    }
   ],
   "source": [
    "cluster_centroids = initialize_cluster_centroids(data, 3)\n",
    "\n",
    "print(cluster_centroids)"
   ]
  },
  {
   "cell_type": "markdown",
   "metadata": {},
   "source": [
    "### For each point, find to what cluster it \"belongs to\""
   ]
  },
  {
   "cell_type": "code",
   "execution_count": 5,
   "metadata": {},
   "outputs": [],
   "source": [
    "def compute_distances(point, cluster_centroids):\n",
    "    \"\"\"\n",
    "    Return a list of distances for each point \n",
    "    \"\"\"\n",
    "    distances = np.zeros(cluster_centroids.shape[0])\n",
    "    \n",
    "    for i, cluster in enumerate(cluster_centroids):\n",
    "        distances[i] = np.power(np.sum(np.power(point - cluster, 2)) , 1/2)\n",
    "        \n",
    "    return distances\n",
    "\n",
    "def return_closest(data, cluster_centroids):\n",
    "    \"\"\"\n",
    "    Return numpy array of size equal to number of points. It indicates,\n",
    "    for each point, what center that point is closest to.\n",
    "    \"\"\"\n",
    "    proximities = np.zeros(data.shape[0])\n",
    "    \n",
    "    distances = np.apply_along_axis(compute_distances, 1, data, cluster_centroids)\n",
    "    \n",
    "    closest = np.argmin(distances, axis=1)\n",
    "    \n",
    "    return closest"
   ]
  },
  {
   "cell_type": "code",
   "execution_count": 6,
   "metadata": {},
   "outputs": [
    {
     "name": "stdout",
     "output_type": "stream",
     "text": [
      "[1 1 2 1 1 1 1 1 1 1 1 1 1 1 1 1 1 1 1 1 1 1 1 1 1 1 1 1 1 1 1 1 1 1 1 1 1\n",
      " 1 1 1 1 1 1 1 1 1 1 1 1 1 1 1 1 1 1 1 1 1 1 1 1 1 1 1 1 1 1 1 1 1 1 1 1 1\n",
      " 1 1 1 1 1 1 1 1 1 1 1 1 1 1 1 1 1 1 1 1 1 1 1 1 1 1 2 2 2 0 2 2 2 2 0 2 2\n",
      " 0 0 2 2 2 2 0 2 2 2 2 2 2 2 2 2 2 0 2 2 2 2 2 2 0 2 2 2 2 2 2 2 2 2 2 2 2\n",
      " 2 0 2 2 2 2 0 2 0 2 2 2 2 2 2 2 2 0 0 0 0 2 2 2 2 2 2 0 2 2 0 0 2 2 2 2 2\n",
      " 2 2 2 2 2 2 2 0 2 2 0 2 0 0 2 2 2 2 2 2 2 2 2 2 2 2 2 2 2 2 2 2 2 2 2 2 2\n",
      " 2 2 2 2 2 2 2 2 2 2 2 2 2 2 2 2 2 2 2 2 2 2 2 2 2 2 2 2 2 2 2 2 2 2 2 2 2\n",
      " 2 2 2 2 2 2 2 2 2 2 2 2 2 2 2 2 2 2 2 2 2 2 2 2 2 2 2 2 2 2 2 2 2 2 2 2 2\n",
      " 2 2 2 1]\n",
      "[0 1 2]\n"
     ]
    }
   ],
   "source": [
    "closest = return_closest(data, cluster_centroids)\n",
    "\n",
    "print(closest)\n",
    "print(np.unique(closest))"
   ]
  },
  {
   "cell_type": "markdown",
   "metadata": {},
   "source": [
    "### Now we find the center of mass of all the points that belong to the same centroid"
   ]
  },
  {
   "cell_type": "code",
   "execution_count": 50,
   "metadata": {},
   "outputs": [],
   "source": [
    "def compute_new_centroids(data, closest_list, n_centroid):\n",
    "    \"\"\"\n",
    "    This function takes the data points and the closest array.\n",
    "    - Data : coordinates of all the points in the dataset\n",
    "    - Closest : Array of size equal to number of points of data,\n",
    "    which give for each of them the number of the centroid to which\n",
    "    it is closest.\n",
    "    \n",
    "    Returns :\n",
    "    - A new list of centroids, where each centroid is the center of mass\n",
    "    of all the points it is closest to.\n",
    "    \"\"\"\n",
    "    # First step is to find how many centers are present in the closest list\n",
    "    unique_centroids, counts = np.unique(closest_list, return_counts=True)\n",
    "    \n",
    "    corrected_centroids = np.zeros((n_centroid, data.shape[1]))\n",
    "    \n",
    "    for i, closest in enumerate(closest_list):\n",
    "        \n",
    "        corrected_centroids[closest, :] += data[i, :]\n",
    "        \n",
    "    # We find the mass by which to divide each centroid.\n",
    "    # This mass is equal to the amount of points which belong to this\n",
    "    # centroid\n",
    "    for unique_centroid, count in zip(unique_centroids, counts):\n",
    "        corrected_centroids[unique_centroid] /= count\n",
    "        \n",
    "    # Finally we delete the centroids that we don't need anymore\n",
    "    corrected_centroids = corrected_centroids[unique_centroids]\n",
    "    \n",
    "    return corrected_centroids"
   ]
  },
  {
   "cell_type": "code",
   "execution_count": 8,
   "metadata": {},
   "outputs": [
    {
     "name": "stdout",
     "output_type": "stream",
     "text": [
      "[[1.78619238 0.9409381 ]\n",
      " [2.0203815  5.028127  ]\n",
      " [4.83667374 2.08691637]]\n"
     ]
    }
   ],
   "source": [
    "corrected_centroids = compute_new_centroids(data, closest, 3)\n",
    "\n",
    "print(corrected_centroids)"
   ]
  },
  {
   "cell_type": "markdown",
   "metadata": {},
   "source": [
    "## Algorithm\n",
    "\n",
    "We have defined functions for each step of the alogirithm. Now all that remains is to put all of these steps in a loop. We stop the loop when there is no longer any progress being made."
   ]
  },
  {
   "cell_type": "code",
   "execution_count": 52,
   "metadata": {},
   "outputs": [],
   "source": [
    "def kmean_algorithm(data, n_clusters):\n",
    "    \"\"\"\n",
    "    This function will return an array giving for each point the centroid it\n",
    "    belongs to, and therefore the cluster it is in.\n",
    "    \"\"\"\n",
    "    cluster_centroids = initialize_cluster_centroids(data, n_clusters)\n",
    "    \n",
    "    centroid_history = [cluster_centroids.copy()]\n",
    "    \n",
    "    stabilised = False\n",
    "    while not stabilised:\n",
    "        # For each point, find what cluster it belongs to\n",
    "        closest = return_closest(data, centroid_history[-1])\n",
    "        # Put the new centroids at the center of mass of their clusters\n",
    "        cluster_centroids = compute_new_centroids(data, closest, n_clusters)\n",
    "        # Check if there has been any change since previous iteration\n",
    "        if centroid_history[-1].shape == cluster_centroids.shape:\n",
    "            if (centroid_history[-1] == cluster_centroids).all():\n",
    "                # If not, we have converged and can end the loop\n",
    "                stabilised = True\n",
    "                return closest, centroid_history\n",
    "    \n",
    "        centroid_history.append(cluster_centroids.copy())\n",
    "        \n",
    "    return closest, centroid_history"
   ]
  },
  {
   "cell_type": "code",
   "execution_count": 53,
   "metadata": {},
   "outputs": [
    {
     "name": "stdout",
     "output_type": "stream",
     "text": [
      "[0 2 2 0 0 0 0 0 0 0 0 0 0 0 0 0 0 0 0 0 0 0 0 0 0 0 0 0 0 0 0 0 0 0 0 0 0\n",
      " 0 0 0 0 0 0 0 0 0 0 0 0 0 0 0 0 0 0 0 0 0 0 0 0 0 0 0 0 0 0 0 0 0 0 0 0 0\n",
      " 0 0 0 0 0 0 0 0 0 0 2 0 0 0 0 0 0 0 0 0 0 0 0 0 0 0 1 1 1 1 1 1 1 1 1 1 1\n",
      " 1 1 1 1 1 1 1 1 1 1 1 1 1 1 1 1 1 1 1 1 1 1 1 1 1 1 1 1 1 1 1 1 1 1 1 1 1\n",
      " 1 1 1 1 1 1 1 1 1 1 1 1 1 1 1 1 1 1 1 1 1 1 1 1 1 1 1 1 1 1 1 1 1 1 1 1 1\n",
      " 1 1 1 1 1 1 1 1 1 1 1 1 1 1 1 2 2 2 2 2 2 2 2 2 2 2 2 2 2 2 2 2 2 2 2 2 2\n",
      " 2 2 2 2 2 2 2 2 2 2 2 2 2 2 2 2 2 1 2 2 2 2 2 2 2 2 2 2 2 2 2 2 2 2 2 2 2\n",
      " 2 2 2 2 2 2 1 2 2 2 2 2 2 2 2 2 2 2 2 2 2 2 2 2 2 2 2 2 2 2 2 2 2 2 2 2 2\n",
      " 2 2 2 0]\n"
     ]
    }
   ],
   "source": [
    "clusters, history = kmean_algorithm(data, 3)\n",
    "\n",
    "print(clusters)"
   ]
  },
  {
   "cell_type": "markdown",
   "metadata": {},
   "source": [
    "## Analyze the results\n",
    "\n",
    "We can print the color of each point"
   ]
  },
  {
   "cell_type": "code",
   "execution_count": 22,
   "metadata": {},
   "outputs": [],
   "source": [
    "def show_clustered_data(data, clusters, x=0, y=1):\n",
    "    fig, ax = plt.subplots(figsize=(12, 12))\n",
    "\n",
    "    colors = [\"red\", \"blue\", \"green\", \"black\", \"cyan\", \"magenta\", \"peru\"]\n",
    "\n",
    "    for dat, clust in zip(data, clusters):\n",
    "        ax.scatter(dat[x], dat[y], c=colors[clust], s=2)\n",
    "\n",
    "    plt.show()"
   ]
  },
  {
   "cell_type": "code",
   "execution_count": 54,
   "metadata": {},
   "outputs": [
    {
     "data": {
      "image/png": "[encoded data removed]",
      "text/plain": [
       "<Figure size 864x864 with 1 Axes>"
      ]
     },
     "metadata": {
      "needs_background": "light"
     },
     "output_type": "display_data"
    }
   ],
   "source": [
    "show_clustered_data(data, clusters)"
   ]
  },
  {
   "cell_type": "markdown",
   "metadata": {},
   "source": [
    "## Apply to some real data\n",
    "\n",
    "Now we want to apply our algorithm to the \"real\" dataset.\n",
    "This dataset is in 6 dimensions, so we won't be able to plot a correct representation of  the clusters. Instead, we show two of the dimensions."
   ]
  },
  {
   "cell_type": "code",
   "execution_count": 55,
   "metadata": {},
   "outputs": [
    {
     "name": "stdout",
     "output_type": "stream",
     "text": [
      "[0 1 1 ... 1 1 0]\n"
     ]
    }
   ],
   "source": [
    "grades = np.genfromtxt(\"grade_students.csv\", delimiter=\",\", skip_header=1)\n",
    "\n",
    "grades_clusters, _ = kmean_algorithm(grades, 5)\n",
    "\n",
    "print(grades_clusters)"
   ]
  },
  {
   "cell_type": "code",
   "execution_count": 57,
   "metadata": {},
   "outputs": [
    {
     "data": {
      "image/png": "[encoded data removed]",
      "text/plain": [
       "<Figure size 864x864 with 1 Axes>"
      ]
     },
     "metadata": {
      "needs_background": "light"
     },
     "output_type": "display_data"
    }
   ],
   "source": [
    "show_clustered_data(grades, grades_clusters, x=3, y=5)"
   ]
  }
 ],
 "metadata": {
  "kernelspec": {
   "display_name": "Python 3",
   "language": "python",
   "name": "python3"
  },
  "language_info": {
   "codemirror_mode": {
    "name": "ipython",
    "version": 3
   },
   "file_extension": ".py",
   "mimetype": "text/x-python",
   "name": "python",
   "nbconvert_exporter": "python",
   "pygments_lexer": "ipython3",
   "version": "3.7.2"
  }
 },
 "nbformat": 4,
 "nbformat_minor": 2
}
