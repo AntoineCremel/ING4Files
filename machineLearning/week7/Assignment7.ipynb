{
 "cells": [
  {
   "cell_type": "markdown",
   "metadata": {},
   "source": [
    "# K-means algorithm\n",
    "\n",
    "## Unsupervised machine learning : Clustering\n",
    "\n",
    "### Reading the data\n",
    "First we need to open the file containing the data we will be working on."
   ]
  },
  {
   "cell_type": "code",
   "execution_count": 8,
   "metadata": {},
   "outputs": [],
   "source": [
    "import numpy as np\n",
    "import matplotlib.pyplot as plt"
   ]
  },
  {
   "cell_type": "code",
   "execution_count": 18,
   "metadata": {},
   "outputs": [
    {
     "data": {
      "image/png": "[encoded data removed]",
      "text/plain": [
       "<Figure size 432x288 with 1 Axes>"
      ]
     },
     "metadata": {
      "needs_background": "light"
     },
     "output_type": "display_data"
    }
   ],
   "source": [
    "data = np.genfromtxt(\"data_kmeans.txt\", delimiter=' ')\n",
    "\n",
    "plt.scatter(data[:, 0], data[:, 1])\n",
    "plt.grid()"
   ]
  },
  {
   "cell_type": "markdown",
   "metadata": {},
   "source": [
    "## Clustering\n",
    "\n",
    "### Define random starting locations"
   ]
  },
  {
   "cell_type": "code",
   "execution_count": 25,
   "metadata": {},
   "outputs": [],
   "source": [
    "def initialize_cluster_centroids(data, n):\n",
    "    \"\"\"\n",
    "    This function will return a list of n randomly initialized cluster centroids.\n",
    "    \"\"\"\n",
    "    centroids = np.random.rand(n, data.shape[1])\n",
    "    \n",
    "    # We want the centroids to be initialized randomly in the range of the input data.\n",
    "    # figure out the min and max on each axis\n",
    "    minis = [np.min(data[:, i]) for i in range(data.shape[1])]\n",
    "    maxis = [np.max(data[:, i]) for i in range(data.shape[1])]\n",
    "    \n",
    "    # Now we adjust centroids to be included in the same range the points are\n",
    "    centroids = np.multiply(centroids, maxis)\n",
    "    centroids += minis\n",
    "    \n",
    "    return centroids"
   ]
  },
  {
   "cell_type": "code",
   "execution_count": 26,
   "metadata": {},
   "outputs": [
    {
     "name": "stdout",
     "output_type": "stream",
     "text": [
      "[[3.80138884 0.90461016]\n",
      " [5.77975818 2.39254549]\n",
      " [4.01520951 3.80991427]]\n"
     ]
    }
   ],
   "source": [
    "cluster_centroids = initialize_cluster_centroids(data, 3)\n",
    "\n",
    "print(cluster_centroids)"
   ]
  },
  {
   "cell_type": "markdown",
   "metadata": {},
   "source": [
    "### For each point, find to what cluster it \"belongs to\""
   ]
  },
  {
   "cell_type": "code",
   "execution_count": 33,
   "metadata": {},
   "outputs": [],
   "source": [
    "def compute_distances(point, cluster_centroids):\n",
    "    \"\"\"\n",
    "    Return a list of distances for each point \n",
    "    \"\"\"\n",
    "    distances = np.zeros(cluster_centroids.shape[0])\n",
    "    for cluster in cluster_centroids:\n",
    "        np.power(np.sum(np.power(point - cluster, 2)) , 1/2)\n",
    "\n",
    "def return_closest(data, cluster_centroids):\n",
    "    \"\"\"\n",
    "    Return numpy array of size equal to number of points. It indicates,\n",
    "    for each point, what center that point is closest to.\n",
    "    \"\"\"\n",
    "    proximities = np.zeros(data.shape[0])\n",
    "    \n",
    "    distances = np.apply_along_axis(compute_distances, 1, data, cluster_centroids)\n",
    "    \n",
    "    print(distances)\n",
    "    \n",
    "    #closest = np.argmin(distances)"
   ]
  },
  {
   "cell_type": "code",
   "execution_count": 34,
   "metadata": {},
   "outputs": [
    {
     "name": "stdout",
     "output_type": "stream",
     "text": [
      "[None None None None None None None None None None None None None None\n",
      " None None None None None None None None None None None None None None\n",
      " None None None None None None None None None None None None None None\n",
      " None None None None None None None None None None None None None None\n",
      " None None None None None None None None None None None None None None\n",
      " None None None None None None None None None None None None None None\n",
      " None None None None None None None None None None None None None None\n",
      " None None None None None None None None None None None None None None\n",
      " None None None None None None None None None None None None None None\n",
      " None None None None None None None None None None None None None None\n",
      " None None None None None None None None None None None None None None\n",
      " None None None None None None None None None None None None None None\n",
      " None None None None None None None None None None None None None None\n",
      " None None None None None None None None None None None None None None\n",
      " None None None None None None None None None None None None None None\n",
      " None None None None None None None None None None None None None None\n",
      " None None None None None None None None None None None None None None\n",
      " None None None None None None None None None None None None None None\n",
      " None None None None None None None None None None None None None None\n",
      " None None None None None None None None None None None None None None\n",
      " None None None None None None None None None None None None None None\n",
      " None None None None None None]\n"
     ]
    }
   ],
   "source": [
    "return_closest(data, cluster_centroids)"
   ]
  }
 ],
 "metadata": {
  "kernelspec": {
   "display_name": "Python 3",
   "language": "python",
   "name": "python3"
  },
  "language_info": {
   "codemirror_mode": {
    "name": "ipython",
    "version": 3
   },
   "file_extension": ".py",
   "mimetype": "text/x-python",
   "name": "python",
   "nbconvert_exporter": "python",
   "pygments_lexer": "ipython3",
   "version": "3.7.2"
  }
 },
 "nbformat": 4,
 "nbformat_minor": 2
}
