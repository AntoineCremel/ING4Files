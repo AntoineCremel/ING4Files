{
 "cells": [
  {
   "cell_type": "markdown",
   "metadata": {},
   "source": [
    "# K-means algorithm\n",
    "\n",
    "## Unsupervised machine learning : Clustering\n",
    "\n",
    "### Reading the data\n",
    "First we need to open the file containing the data we will be working on."
   ]
  },
  {
   "cell_type": "code",
   "execution_count": 1,
   "metadata": {},
   "outputs": [],
   "source": [
    "import numpy as np\n",
    "import matplotlib.pyplot as plt"
   ]
  },
  {
   "cell_type": "code",
   "execution_count": 2,
   "metadata": {},
   "outputs": [
    {
     "data": {
      "image/png": "[encoded data removed]",
      "text/plain": [
       "<Figure size 432x288 with 1 Axes>"
      ]
     },
     "metadata": {
      "needs_background": "light"
     },
     "output_type": "display_data"
    }
   ],
   "source": [
    "data = np.genfromtxt(\"data_kmeans.txt\", delimiter=' ')\n",
    "\n",
    "plt.scatter(data[:, 0], data[:, 1])\n",
    "plt.grid()"
   ]
  },
  {
   "cell_type": "markdown",
   "metadata": {},
   "source": [
    "## Clustering\n",
    "\n",
    "### Define random starting locations"
   ]
  },
  {
   "cell_type": "code",
   "execution_count": 44,
   "metadata": {},
   "outputs": [],
   "source": [
    "def initialize_cluster_centroids(data, n):\n",
    "    \"\"\"\n",
    "    This function will return a list of n randomly initialized cluster centroids.\n",
    "    \"\"\"\n",
    "    centroids = np.random.rand(n, data.shape[1])\n",
    "    \n",
    "    # We want the centroids to be initialized randomly in the range of the input data.\n",
    "    # figure out the min and max on each axis\n",
    "    minis = [np.min(data[:, i]) for i in range(data.shape[1])]\n",
    "    maxis = [np.max(data[:, i]) for i in range(data.shape[1])]\n",
    "    \n",
    "    # Now we adjust centroids to be included in the same range the points are\n",
    "    centroids *= maxis\n",
    "    centroids += minis\n",
    "    \n",
    "    return centroids"
   ]
  },
  {
   "cell_type": "code",
   "execution_count": 48,
   "metadata": {},
   "outputs": [
    {
     "name": "stdout",
     "output_type": "stream",
     "text": [
      "[[6.63938394 5.52510175]\n",
      " [4.40341414 4.8161883 ]\n",
      " [0.17871131 2.62640386]]\n"
     ]
    }
   ],
   "source": [
    "cluster_centroids = initialize_cluster_centroids(data, 3)\n",
    "\n",
    "print(cluster_centroids)"
   ]
  },
  {
   "cell_type": "markdown",
   "metadata": {},
   "source": [
    "### For each point, find to what cluster it \"belongs to\""
   ]
  },
  {
   "cell_type": "code",
   "execution_count": 5,
   "metadata": {},
   "outputs": [],
   "source": [
    "def compute_distances(point, cluster_centroids):\n",
    "    \"\"\"\n",
    "    Return a list of distances for each point \n",
    "    \"\"\"\n",
    "    distances = np.zeros(cluster_centroids.shape[0])\n",
    "    \n",
    "    for i, cluster in enumerate(cluster_centroids):\n",
    "        distances[i] = np.power(np.sum(np.power(point - cluster, 2)) , 1/2)\n",
    "        \n",
    "    return distances\n",
    "\n",
    "def return_closest(data, cluster_centroids):\n",
    "    \"\"\"\n",
    "    Return numpy array of size equal to number of points. It indicates,\n",
    "    for each point, what center that point is closest to.\n",
    "    \"\"\"\n",
    "    proximities = np.zeros(data.shape[0])\n",
    "    \n",
    "    distances = np.apply_along_axis(compute_distances, 1, data, cluster_centroids)\n",
    "    \n",
    "    closest = np.argmin(distances, axis=1)\n",
    "    \n",
    "    return closest"
   ]
  },
  {
   "cell_type": "code",
   "execution_count": 17,
   "metadata": {},
   "outputs": [
    {
     "name": "stdout",
     "output_type": "stream",
     "text": [
      "[1 2 2 0 0 1 1 0 0 0 0 0 1 0 1 0 0 0 1 0 1 0 0 1 1 0 0 1 1 1 0 0 0 0 0 0 1\n",
      " 0 0 1 0 0 0 1 1 0 0 0 1 0 0 0 0 0 0 0 1 1 0 1 1 0 1 1 1 1 0 1 0 0 0 1 1 0\n",
      " 0 1 1 1 1 1 1 0 0 0 0 0 0 1 1 0 0 0 1 0 0 0 0 1 1 0 1 1 1 1 1 1 1 1 1 1 1\n",
      " 1 1 1 1 1 1 1 1 1 1 1 1 1 1 1 1 1 1 1 1 1 1 1 1 1 1 1 1 1 1 1 1 1 1 1 1 1\n",
      " 1 1 1 1 1 1 1 1 1 1 1 1 1 1 1 1 1 1 1 1 1 1 1 1 1 1 1 1 1 1 1 1 1 1 1 1 1\n",
      " 1 1 1 1 1 1 1 1 1 1 1 2 1 1 1 2 2 2 2 2 2 2 2 2 0 2 2 2 2 2 2 2 2 2 2 2 2\n",
      " 2 2 0 2 2 2 2 2 2 2 2 2 2 2 2 2 2 0 2 0 2 2 2 2 2 2 2 2 2 2 2 2 2 2 2 2 2\n",
      " 2 2 0 2 2 2 1 2 2 2 2 2 2 2 0 2 2 2 0 2 2 2 2 2 2 2 2 2 2 2 2 2 2 2 2 2 2\n",
      " 2 0 2 1]\n",
      "[0 1 2]\n"
     ]
    }
   ],
   "source": [
    "closest = return_closest(data, cluster_centroids)\n",
    "\n",
    "print(closest)\n",
    "print(np.unique(closest))"
   ]
  },
  {
   "cell_type": "markdown",
   "metadata": {},
   "source": [
    "### Now we find the center of mass of all the points that belong to the same centroid"
   ]
  },
  {
   "cell_type": "code",
   "execution_count": 53,
   "metadata": {},
   "outputs": [],
   "source": [
    "def compute_new_centroids(data, closest_list):\n",
    "    \"\"\"\n",
    "    This function takes the data points and the closest array.\n",
    "    - Data : coordinates of all the points in the dataset\n",
    "    - Closest : Array of size equal to number of points of data,\n",
    "    which give for each of them the number of the centroid to which\n",
    "    it is closest.\n",
    "    \n",
    "    Returns :\n",
    "    - A new list of centroids, where each centroid is the center of mass\n",
    "    of all the points it is closest to.\n",
    "    \"\"\"\n",
    "    # First step is to find how many centers are present in the closest list\n",
    "    unique_centroids, counts = np.unique(closest_list, return_counts=True)\n",
    "    \n",
    "    corrected_centroids = np.zeros((unique_centroids.shape[0], data.shape[1]))\n",
    "    \n",
    "    for i, closest in enumerate(closest_list):\n",
    "        \n",
    "        corrected_centroids[closest, :] += data[i, :]\n",
    "        \n",
    "    # We find the mass by which to divide each centroid.\n",
    "    # This mass is equal to the amount of points which belong to this\n",
    "    # centroid\n",
    "    \n",
    "    corrected_centroids /= counts.reshape((3, 1))\n",
    "    \n",
    "    return corrected_centroids"
   ]
  },
  {
   "cell_type": "code",
   "execution_count": 54,
   "metadata": {},
   "outputs": [
    {
     "name": "stdout",
     "output_type": "stream",
     "text": [
      "[[7.62413333 3.1293    ]\n",
      " [2.16793543 4.06326442]\n",
      " [4.87431346 2.02964192]]\n"
     ]
    }
   ],
   "source": [
    "corrected_centroids = compute_new_centroids(data, closest)\n",
    "\n",
    "print(corrected_centroids)"
   ]
  },
  {
   "cell_type": "markdown",
   "metadata": {},
   "source": [
    "## Algorithm\n",
    "\n",
    "We have defined functions for each step of the alogirithm. Now all that remains is to put all of these steps in a loop. We stop the loop when there is no longer any progress being made."
   ]
  },
  {
   "cell_type": "code",
   "execution_count": 59,
   "metadata": {},
   "outputs": [],
   "source": [
    "def kmean_algorithm(data, n_clusters):\n",
    "    \"\"\"\n",
    "    This function will return an array giving for each point the centroid it\n",
    "    belongs to, and therefore the cluster it is in.\n",
    "    \"\"\"\n",
    "    cluster_centroids = initialize_cluster_centroids(data, n_clusters)\n",
    "    \n",
    "    centroid_history = [cluster_centroids.copy()]\n",
    "    \n",
    "    stabilised = False\n",
    "    while not stabilised:\n",
    "        # For each point, find what cluster it belongs to\n",
    "        closest = return_closest(data, centroid_history[-1])\n",
    "        # Put the new centroids at the center of mass of their clusters\n",
    "        cluster_centroids = compute_new_centroids(data, closest)\n",
    "        # Check if there has been any change since previous iteration\n",
    "        if (centroid_history[-1] == cluster_centroids).all():\n",
    "            # If not, we have converged and can end the loop\n",
    "            stabilised = True\n",
    "        else:    \n",
    "            centroid_history.append(cluster_centroids.copy())\n",
    "        \n",
    "    return closest, centroid_history"
   ]
  },
  {
   "cell_type": "code",
   "execution_count": 60,
   "metadata": {},
   "outputs": [
    {
     "name": "stdout",
     "output_type": "stream",
     "text": [
      "[0 2 2 0 0 0 0 0 0 0 0 0 0 0 0 0 0 0 0 0 0 0 0 0 0 0 0 0 0 0 0 0 0 0 0 0 0\n",
      " 0 0 0 0 0 0 0 0 0 0 0 0 0 0 0 0 0 0 0 0 0 0 0 0 0 0 0 0 0 0 0 0 0 0 0 0 0\n",
      " 0 0 0 0 0 0 0 0 0 0 2 0 0 0 0 0 0 0 0 0 0 0 0 0 0 0 1 1 1 1 1 1 1 1 1 1 1\n",
      " 1 1 1 1 1 1 1 1 1 1 1 1 1 1 1 1 1 1 1 1 1 1 1 1 1 1 1 1 1 1 1 1 1 1 1 1 1\n",
      " 1 1 1 1 1 1 1 1 1 1 1 1 1 1 1 1 1 1 1 1 1 1 1 1 1 1 1 1 1 1 1 1 1 1 1 1 1\n",
      " 1 1 1 1 1 1 1 1 1 1 1 1 1 1 1 2 2 2 2 2 2 2 2 2 2 2 2 2 2 2 2 2 2 2 2 2 2\n",
      " 2 2 2 2 2 2 2 2 2 2 2 2 2 2 2 2 2 1 2 2 2 2 2 2 2 2 2 2 2 2 2 2 2 2 2 2 2\n",
      " 2 2 2 2 2 2 1 2 2 2 2 2 2 2 2 2 2 2 2 2 2 2 2 2 2 2 2 2 2 2 2 2 2 2 2 2 2\n",
      " 2 2 2 0]\n"
     ]
    }
   ],
   "source": [
    "clusters, history = kmean_algorithm(data, 3)\n",
    "\n",
    "print(clusters)"
   ]
  },
  {
   "cell_type": "markdown",
   "metadata": {},
   "source": [
    "## Analyze the results\n",
    "\n",
    "We can print the color of each point"
   ]
  },
  {
   "cell_type": "code",
   "execution_count": 73,
   "metadata": {},
   "outputs": [
    {
     "data": {
      "image/png": "[encoded data removed]",
      "text/plain": [
       "<Figure size 576x576 with 1 Axes>"
      ]
     },
     "metadata": {
      "needs_background": "light"
     },
     "output_type": "display_data"
    }
   ],
   "source": [
    "fig, ax = plt.subplots(figsize=(8,8))\n",
    "\n",
    "colors = [\"red\", \"blue\", \"green\"]\n",
    "\n",
    "for dat, clust in zip(data, clusters):\n",
    "    ax.scatter(dat[0], dat[1], c=colors[clust], s=1)\n",
    "\n",
    "plt.show()"
   ]
  },
  {
   "cell_type": "markdown",
   "metadata": {},
   "source": [
    "## Apply to some real data\n",
    "\n",
    "Now we want to apply our algorithm to the \"real\" dataset"
   ]
  },
  {
   "cell_type": "code",
   "execution_count": 76,
   "metadata": {},
   "outputs": [
    {
     "ename": "IndexError",
     "evalue": "index 3 is out of bounds for axis 0 with size 1",
     "output_type": "error",
     "traceback": [
      "\u001b[0;31m---------------------------------------------------------------------------\u001b[0m",
      "\u001b[0;31mIndexError\u001b[0m                                Traceback (most recent call last)",
      "\u001b[0;32m<ipython-input-76-2f2a2426454f>\u001b[0m in \u001b[0;36m<module>\u001b[0;34m\u001b[0m\n\u001b[1;32m      1\u001b[0m \u001b[0mgrades\u001b[0m \u001b[0;34m=\u001b[0m \u001b[0mnp\u001b[0m\u001b[0;34m.\u001b[0m\u001b[0mgenfromtxt\u001b[0m\u001b[0;34m(\u001b[0m\u001b[0;34m\"grade_students.csv\"\u001b[0m\u001b[0;34m,\u001b[0m \u001b[0mdelimiter\u001b[0m\u001b[0;34m=\u001b[0m\u001b[0;34m\",\"\u001b[0m\u001b[0;34m,\u001b[0m \u001b[0mskip_header\u001b[0m\u001b[0;34m=\u001b[0m\u001b[0;36m1\u001b[0m\u001b[0;34m)\u001b[0m\u001b[0;34m\u001b[0m\u001b[0;34m\u001b[0m\u001b[0m\n\u001b[1;32m      2\u001b[0m \u001b[0;34m\u001b[0m\u001b[0m\n\u001b[0;32m----> 3\u001b[0;31m \u001b[0mgrades_clusters\u001b[0m\u001b[0;34m,\u001b[0m \u001b[0m_\u001b[0m \u001b[0;34m=\u001b[0m \u001b[0mkmean_algorithm\u001b[0m\u001b[0;34m(\u001b[0m\u001b[0mgrades\u001b[0m\u001b[0;34m,\u001b[0m \u001b[0;36m4\u001b[0m\u001b[0;34m)\u001b[0m\u001b[0;34m\u001b[0m\u001b[0;34m\u001b[0m\u001b[0m\n\u001b[0m\u001b[1;32m      4\u001b[0m \u001b[0;34m\u001b[0m\u001b[0m\n\u001b[1;32m      5\u001b[0m \u001b[0mprint\u001b[0m\u001b[0;34m(\u001b[0m\u001b[0mgrades_clusters\u001b[0m\u001b[0;34m)\u001b[0m\u001b[0;34m\u001b[0m\u001b[0;34m\u001b[0m\u001b[0m\n",
      "\u001b[0;32m<ipython-input-59-4a0a889009db>\u001b[0m in \u001b[0;36mkmean_algorithm\u001b[0;34m(data, n_clusters)\u001b[0m\n\u001b[1;32m     13\u001b[0m         \u001b[0mclosest\u001b[0m \u001b[0;34m=\u001b[0m \u001b[0mreturn_closest\u001b[0m\u001b[0;34m(\u001b[0m\u001b[0mdata\u001b[0m\u001b[0;34m,\u001b[0m \u001b[0mcentroid_history\u001b[0m\u001b[0;34m[\u001b[0m\u001b[0;34m-\u001b[0m\u001b[0;36m1\u001b[0m\u001b[0;34m]\u001b[0m\u001b[0;34m)\u001b[0m\u001b[0;34m\u001b[0m\u001b[0;34m\u001b[0m\u001b[0m\n\u001b[1;32m     14\u001b[0m         \u001b[0;31m# Put the new centroids at the center of mass of their clusters\u001b[0m\u001b[0;34m\u001b[0m\u001b[0;34m\u001b[0m\u001b[0;34m\u001b[0m\u001b[0m\n\u001b[0;32m---> 15\u001b[0;31m         \u001b[0mcluster_centroids\u001b[0m \u001b[0;34m=\u001b[0m \u001b[0mcompute_new_centroids\u001b[0m\u001b[0;34m(\u001b[0m\u001b[0mdata\u001b[0m\u001b[0;34m,\u001b[0m \u001b[0mclosest\u001b[0m\u001b[0;34m)\u001b[0m\u001b[0;34m\u001b[0m\u001b[0;34m\u001b[0m\u001b[0m\n\u001b[0m\u001b[1;32m     16\u001b[0m         \u001b[0;31m# Check if there has been any change since previous iteration\u001b[0m\u001b[0;34m\u001b[0m\u001b[0;34m\u001b[0m\u001b[0;34m\u001b[0m\u001b[0m\n\u001b[1;32m     17\u001b[0m         \u001b[0;32mif\u001b[0m \u001b[0;34m(\u001b[0m\u001b[0mcentroid_history\u001b[0m\u001b[0;34m[\u001b[0m\u001b[0;34m-\u001b[0m\u001b[0;36m1\u001b[0m\u001b[0;34m]\u001b[0m \u001b[0;34m==\u001b[0m \u001b[0mcluster_centroids\u001b[0m\u001b[0;34m)\u001b[0m\u001b[0;34m.\u001b[0m\u001b[0mall\u001b[0m\u001b[0;34m(\u001b[0m\u001b[0;34m)\u001b[0m\u001b[0;34m:\u001b[0m\u001b[0;34m\u001b[0m\u001b[0;34m\u001b[0m\u001b[0m\n",
      "\u001b[0;32m<ipython-input-53-ef0e40d33657>\u001b[0m in \u001b[0;36mcompute_new_centroids\u001b[0;34m(data, closest_list)\u001b[0m\n\u001b[1;32m     18\u001b[0m     \u001b[0;32mfor\u001b[0m \u001b[0mi\u001b[0m\u001b[0;34m,\u001b[0m \u001b[0mclosest\u001b[0m \u001b[0;32min\u001b[0m \u001b[0menumerate\u001b[0m\u001b[0;34m(\u001b[0m\u001b[0mclosest_list\u001b[0m\u001b[0;34m)\u001b[0m\u001b[0;34m:\u001b[0m\u001b[0;34m\u001b[0m\u001b[0;34m\u001b[0m\u001b[0m\n\u001b[1;32m     19\u001b[0m \u001b[0;34m\u001b[0m\u001b[0m\n\u001b[0;32m---> 20\u001b[0;31m         \u001b[0mcorrected_centroids\u001b[0m\u001b[0;34m[\u001b[0m\u001b[0mclosest\u001b[0m\u001b[0;34m,\u001b[0m \u001b[0;34m:\u001b[0m\u001b[0;34m]\u001b[0m \u001b[0;34m+=\u001b[0m \u001b[0mdata\u001b[0m\u001b[0;34m[\u001b[0m\u001b[0mi\u001b[0m\u001b[0;34m,\u001b[0m \u001b[0;34m:\u001b[0m\u001b[0;34m]\u001b[0m\u001b[0;34m\u001b[0m\u001b[0;34m\u001b[0m\u001b[0m\n\u001b[0m\u001b[1;32m     21\u001b[0m \u001b[0;34m\u001b[0m\u001b[0m\n\u001b[1;32m     22\u001b[0m     \u001b[0;31m# We find the mass by which to divide each centroid.\u001b[0m\u001b[0;34m\u001b[0m\u001b[0;34m\u001b[0m\u001b[0;34m\u001b[0m\u001b[0m\n",
      "\u001b[0;31mIndexError\u001b[0m: index 3 is out of bounds for axis 0 with size 1"
     ]
    }
   ],
   "source": [
    "grades = np.genfromtxt(\"grade_students.csv\", delimiter=\",\", skip_header=1)\n",
    "\n",
    "grades_clusters, _ = kmean_algorithm(grades, 4)\n",
    "\n",
    "print(grades_clusters)"
   ]
  }
 ],
 "metadata": {
  "kernelspec": {
   "display_name": "Python 3",
   "language": "python",
   "name": "python3"
  },
  "language_info": {
   "codemirror_mode": {
    "name": "ipython",
    "version": 3
   },
   "file_extension": ".py",
   "mimetype": "text/x-python",
   "name": "python",
   "nbconvert_exporter": "python",
   "pygments_lexer": "ipython3",
   "version": "3.7.1"
  }
 },
 "nbformat": 4,
 "nbformat_minor": 2
}
